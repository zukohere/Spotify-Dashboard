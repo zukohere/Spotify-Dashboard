{
 "cells": [
  {
   "cell_type": "code",
   "execution_count": 1,
   "metadata": {},
   "outputs": [],
   "source": [
    "import sys\n",
    "path = \"/Users/matth/Desktop\"\n",
    "sys.path.insert(0,path)\n",
    "from SpotipyConfig import SPOTIFY_USER_ID, SPOTIPY_CLIENT_ID, SPOTIPY_CLIENT_SECRET "
   ]
  },
  {
   "cell_type": "code",
   "execution_count": 64,
   "metadata": {},
   "outputs": [],
   "source": [
    "import spotipy\n",
    "from spotipy.oauth2 import SpotifyClientCredentials\n",
    "\n",
    "auth_manager = SpotifyClientCredentials(SPOTIPY_CLIENT_ID, SPOTIPY_CLIENT_SECRET)\n",
    "sp = spotipy.Spotify(auth_manager=auth_manager)"
   ]
  },
  {
   "cell_type": "code",
   "execution_count": 3,
   "metadata": {},
   "outputs": [],
   "source": [
    "import numpy as np"
   ]
  },
  {
   "cell_type": "code",
   "execution_count": 4,
   "metadata": {},
   "outputs": [],
   "source": [
    "import pandas as pd"
   ]
  },
  {
   "cell_type": "code",
   "execution_count": 5,
   "metadata": {},
   "outputs": [],
   "source": [
    "# Get all users playlists\n",
    "playlists = sp.user_playlists(SPOTIFY_USER_ID)\n",
    "\n",
    "\n",
    "plList = []\n",
    "while playlists:\n",
    "    for i, playlist in enumerate(playlists['items']):\n",
    "    #     print(\"%4d %s %s\" % (i + 1 + playlists['offset'], playlist['uri'],  playlist['name']))\n",
    "        plList.append({\"offset\": (i + 1+playlists['offset']),\"uri\": playlist['uri'], \"name\": playlist['name']})\n",
    "    if playlists['next']:\n",
    "        playlists = sp.next(playlists)\n",
    "    else:\n",
    "        playlists = None"
   ]
  },
  {
   "cell_type": "code",
   "execution_count": 6,
   "metadata": {},
   "outputs": [
    {
     "data": {
      "text/plain": [
       "[{'offset': 1,\n",
       "  'uri': 'spotify:playlist:7A4i9nxLDpnSYKiBKDND1R',\n",
       "  'name': 'Down Boy'},\n",
       " {'offset': 2,\n",
       "  'uri': 'spotify:playlist:6eKMGiLrPGhsHHpFcgEZld',\n",
       "  'name': 'Metric_demo'},\n",
       " {'offset': 3,\n",
       "  'uri': 'spotify:playlist:6kzKoa3r6maP6OD83DfATt',\n",
       "  'name': '2_feelsDeep'},\n",
       " {'offset': 4,\n",
       "  'uri': 'spotify:playlist:7AHolxuT1eOEQSvzJxH6R9',\n",
       "  'name': 'podcasts'},\n",
       " {'offset': 5,\n",
       "  'uri': 'spotify:playlist:0x0mqqyr1VhS2Uit3Vb8P2',\n",
       "  'name': 'xtina get ready!!'},\n",
       " {'offset': 6,\n",
       "  'uri': 'spotify:playlist:3QpsuC1uE6BjOocJwVZyXs',\n",
       "  'name': 'High Energy - Electronic Workout'},\n",
       " {'offset': 7,\n",
       "  'uri': 'spotify:playlist:1117XyrrtPg6TQo5chj7ZD',\n",
       "  'name': 'songs for piano'},\n",
       " {'offset': 8,\n",
       "  'uri': 'spotify:playlist:37i9dQZEVXbnIpIBKfEG9P',\n",
       "  'name': 'Release Radar'},\n",
       " {'offset': 9,\n",
       "  'uri': 'spotify:playlist:4ff1hbMf7gC6lCwqSPGE3K',\n",
       "  'name': 'angsty goodness'},\n",
       " {'offset': 10,\n",
       "  'uri': 'spotify:playlist:37i9dQZF1DXdgz8ZB7c2CP',\n",
       "  'name': 'creamy'},\n",
       " {'offset': 11,\n",
       "  'uri': 'spotify:playlist:37i9dQZF1DX4JAvHpjipBk',\n",
       "  'name': 'New Music Friday'},\n",
       " {'offset': 12,\n",
       "  'uri': 'spotify:playlist:37i9dQZF1DX2sUQwD7tbmL',\n",
       "  'name': 'Feel-Good Indie Rock'},\n",
       " {'offset': 13,\n",
       "  'uri': 'spotify:playlist:3awSpph7VfftuS4ArC3LBN',\n",
       "  'name': 'cake etc'},\n",
       " {'offset': 14,\n",
       "  'uri': 'spotify:playlist:4Sao0aeynNCenYJ5fFstAF',\n",
       "  'name': 'Marina'},\n",
       " {'offset': 15,\n",
       "  'uri': 'spotify:playlist:42ndan1IXwwZOH3BB26BCe',\n",
       "  'name': '1_This One'},\n",
       " {'offset': 16,\n",
       "  'uri': 'spotify:playlist:3A30QvAOQQoXdHYG84HuR4',\n",
       "  'name': 'VideoGames'},\n",
       " {'offset': 17,\n",
       "  'uri': 'spotify:playlist:4QtnAmCWgfJo19RmETZcCW',\n",
       "  'name': 'Liked from Radio'}]"
      ]
     },
     "execution_count": 6,
     "metadata": {},
     "output_type": "execute_result"
    }
   ],
   "source": [
    "# show playlists\n",
    "plList"
   ]
  },
  {
   "cell_type": "code",
   "execution_count": 65,
   "metadata": {},
   "outputs": [],
   "source": [
    "# Pick playlist and populate trList with the tracks.\n",
    "This_One = plList[2][\"uri\"]\n",
    "plTracksObj = sp.playlist_tracks(This_One, fields=None, limit=100, offset=0, market=None, additional_types=('track', ))\n",
    "\n",
    "trList = []\n",
    "while plTracksObj:\n",
    "    for i, playlist in enumerate(plTracksObj['items']):\n",
    "    #     print(\"%4d %s %s\" % (i + 1 + playlists['offset'], playlist['uri'],  playlist['name']))\n",
    "        trList.append({\"id\": (playlist['track']['id']),\n",
    "                       \"name\": playlist[\"track\"]['name'], \n",
    "                       \"added_at\": playlist[\"added_at\"],\n",
    "                       \"artists\": \",\".join([artist[\"name\"] for artist in playlist[\"track\"][\"artists\"]])})\n",
    "    if plTracksObj['next']:\n",
    "        plTracksObj = sp.next(plTracksObj)\n",
    "    else:\n",
    "        plTracksObj = None"
   ]
  },
  {
   "cell_type": "code",
   "execution_count": null,
   "metadata": {},
   "outputs": [],
   "source": [
    "# plTracksObj = sp.playlist_tracks(This_One, fields=None, limit=100, offset=0, market=None, additional_types=('track', ))\n",
    "# plTracksObj['items']"
   ]
  },
  {
   "cell_type": "code",
   "execution_count": 66,
   "metadata": {},
   "outputs": [],
   "source": [
    "# Add audio features to each track in trList\n",
    "\n",
    "for i in range(1,int(np.ceil(len(trList)/100)+1)):\n",
    "    temp_audiofeats = sp.audio_features([tr[\"id\"] for tr in trList[100*(i-1):(100*i)]])\n",
    "    for feat in temp_audiofeats:\n",
    "        trackInd = next((i for i, track in enumerate(trList) if track[\"id\"] == feat[\"id\"]),None)\n",
    "        trList[trackInd][\"afeats\"]=feat"
   ]
  },
  {
   "cell_type": "code",
   "execution_count": 67,
   "metadata": {},
   "outputs": [],
   "source": [
    "song_id = [track[\"id\"] for track in trList]\n",
    "songtitle = [track[\"name\"] for track in trList]\n",
    "artists = [track[\"artists\"] for track in trList]\n",
    "added_at = [track[\"added_at\"] for track in trList]\n",
    "danceability =[track[\"afeats\"][\"danceability\"] for track in trList]\n",
    "energy =[track[\"afeats\"][\"energy\"] for track in trList]\n",
    "key =[track[\"afeats\"][\"key\"] for track in trList]\n",
    "loudness =[track[\"afeats\"][\"loudness\"] for track in trList]\n",
    "speechiness =[track[\"afeats\"][\"speechiness\"] for track in trList]\n",
    "instrumentalness = [track[\"afeats\"][\"instrumentalness\"] for track in trList]\n",
    "valence = [track[\"afeats\"][\"valence\"] for track in trList]\n",
    "duration_ms = [track[\"afeats\"][\"duration_ms\"] for track in trList]\n",
    "\n",
    "playlistFrame = pd.DataFrame({\"song_id\": song_id,\n",
    "                             \"songtitle\": songtitle,\n",
    "                             \"artists\": artists,\n",
    "                             \"added_at\": added_at,\n",
    "                            \"danceability\": danceability,\n",
    "                             \"energy\": energy,\n",
    "                             \"key\": key,\n",
    "                             \"loudness\": loudness,\n",
    "                             \"speechiness\": speechiness,\n",
    "                             \"instrumentalness\": instrumentalness,\n",
    "                              \"valence\": valence,\n",
    "                            \"duration_ms\": duration_ms,\n",
    "                             \"duration_min\": [dur/1000/60 for dur in duration_ms]})"
   ]
  },
  {
   "cell_type": "code",
   "execution_count": 60,
   "metadata": {},
   "outputs": [
    {
     "name": "stdout",
     "output_type": "stream",
     "text": [
      "Peach Face,Not Charles - Dirt Boy has max value for valence\n",
      "Naomi Wild - LA LA LAND has min value for valence\n"
     ]
    }
   ],
   "source": [
    "param = \"valence\"\n",
    "maxdf = playlistFrame[playlistFrame[param]==max(playlistFrame[param])]\n",
    "for ind in maxdf.index:\n",
    "     print(maxdf['artists'][ind]+ \" - \" + maxdf['songtitle'][ind] + \" has max value for \"+ param)\n",
    "\n",
    "mindf = playlistFrame[playlistFrame[param]==min(playlistFrame[param])]\n",
    "for ind in mindf.index:\n",
    "     print(mindf['artists'][ind]+ \" - \" + mindf['songtitle'][ind] + \" has min value for \"+ param)"
   ]
  },
  {
   "cell_type": "code",
   "execution_count": null,
   "metadata": {},
   "outputs": [],
   "source": [
    "playlistFrame[playlistFrame[\"energy\"]==min(playlistFrame[\"energy\"])]"
   ]
  },
  {
   "cell_type": "code",
   "execution_count": 68,
   "metadata": {},
   "outputs": [
    {
     "data": {
      "image/png": "[encoded data removed]",
      "text/plain": [
       "<Figure size 432x288 with 1 Axes>"
      ]
     },
     "metadata": {
      "needs_background": "light"
     },
     "output_type": "display_data"
    }
   ],
   "source": [
    "plotFrame = playlistFrame.iloc[: , [4,5,8,9,10]]\n",
    "boxplot = plotFrame.boxplot()"
   ]
  },
  {
   "cell_type": "code",
   "execution_count": 70,
   "metadata": {},
   "outputs": [
    {
     "data": {
      "image/png": "[encoded data removed]",
      "text/plain": [
       "<Figure size 432x288 with 1 Axes>"
      ]
     },
     "metadata": {
      "needs_background": "light"
     },
     "output_type": "display_data"
    }
   ],
   "source": [
    "plotFrame = playlistFrame.iloc[: , [6,7]]\n",
    "boxplot = plotFrame.boxplot()"
   ]
  },
  {
   "cell_type": "code",
   "execution_count": 69,
   "metadata": {},
   "outputs": [
    {
     "data": {
      "image/png": "[encoded data removed]",
      "text/plain": [
       "<Figure size 432x288 with 1 Axes>"
      ]
     },
     "metadata": {
      "needs_background": "light"
     },
     "output_type": "display_data"
    }
   ],
   "source": [
    "plotFrame = playlistFrame.iloc[: , [11]]\n",
    "boxplot = plotFrame.boxplot()"
   ]
  },
  {
   "cell_type": "code",
   "execution_count": null,
   "metadata": {},
   "outputs": [],
   "source": [
    "# result = filter(lambda track: track[\"afeats\"][\"danceability\"]== 0.958, trList)\n",
    "# print(list(result))"
   ]
  },
  {
   "cell_type": "code",
   "execution_count": null,
   "metadata": {},
   "outputs": [],
   "source": [
    "# danceyframe = pd.DataFrame({\"Danceability\": Danceability})\n",
    "# boxplot = danceyframe.boxplot(\"Danceability\")"
   ]
  }
 ],
 "metadata": {
  "kernelspec": {
   "display_name": "Python 3",
   "language": "python",
   "name": "python3"
  },
  "language_info": {
   "codemirror_mode": {
    "name": "ipython",
    "version": 3
   },
   "file_extension": ".py",
   "mimetype": "text/x-python",
   "name": "python",
   "nbconvert_exporter": "python",
   "pygments_lexer": "ipython3",
   "version": "3.8.5"
  }
 },
 "nbformat": 4,
 "nbformat_minor": 4
}
